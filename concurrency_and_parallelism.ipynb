{
 "cells": [
  {
   "cell_type": "code",
   "execution_count": 2,
   "metadata": {},
   "outputs": [],
   "source": [
    "import os\n",
    "import time\n",
    "import threading\n",
    "import multiprocessing\n",
    " \n",
    "NUM_WORKERS = 4\n",
    " \n",
    "def only_sleep():\n",
    "    \"\"\" Do nothing, wait for a timer to expire \"\"\"\n",
    "    print(\"PID: %s, Process Name: %s, Thread Name: %s\" % (\n",
    "        os.getpid(),\n",
    "        multiprocessing.current_process().name,\n",
    "        threading.current_thread().name)\n",
    "    )\n",
    "    time.sleep(1)\n",
    " \n",
    " \n",
    "def crunch_numbers():\n",
    "    \"\"\" Do some computations \"\"\"\n",
    "    print(\"PID: %s, Process Name: %s, Thread Name: %s\" % (\n",
    "        os.getpid(),\n",
    "        multiprocessing.current_process().name,\n",
    "        threading.current_thread().name)\n",
    "    )\n",
    "    x = 0\n",
    "    while x < 10000000:\n",
    "        x += 1"
   ]
  },
  {
   "cell_type": "code",
   "execution_count": 5,
   "metadata": {},
   "outputs": [
    {
     "name": "stdout",
     "output_type": "stream",
     "text": [
      "PID: 15077, Process Name: MainProcess, Thread Name: MainThread\n",
      "PID: 15077, Process Name: MainProcess, Thread Name: MainThread\n",
      "PID: 15077, Process Name: MainProcess, Thread Name: MainThread\n",
      "PID: 15077, Process Name: MainProcess, Thread Name: MainThread\n",
      "Serial time= 4.011874198913574\n",
      "PID: 15077, Process Name: MainProcess, Thread Name: Thread-12\n",
      "PID: 15077, Process Name: MainProcess, Thread Name: Thread-13\n",
      "PID: 15077, Process Name: MainProcess, Thread Name: Thread-14\n",
      "PID: 15077, Process Name: MainProcess, Thread Name: Thread-15\n",
      "Threads time= 1.0082948207855225\n",
      "PID: 15077, Process Name: MainProcess, Thread Name: MainThread\n",
      "PID: 15077, Process Name: MainProcess, Thread Name: MainThread\n",
      "PID: 15077, Process Name: MainProcess, Thread Name: MainThread\n",
      "PID: 15077, Process Name: MainProcess, Thread Name: MainThread\n",
      "Parallel time= 4.031504154205322\n"
     ]
    }
   ],
   "source": [
    "## Run tasks serially\n",
    "start_time = time.time()\n",
    "for _ in range(NUM_WORKERS):\n",
    "    only_sleep()\n",
    "end_time = time.time()\n",
    " \n",
    "print(\"Serial time=\", end_time - start_time)\n",
    " \n",
    "# Run tasks using threads\n",
    "start_time = time.time()\n",
    "threads = [threading.Thread(target=only_sleep) for _ in range(NUM_WORKERS)]\n",
    "[thread.start() for thread in threads]\n",
    "[thread.join() for thread in threads]\n",
    "end_time = time.time()\n",
    " \n",
    "print(\"Threads time=\", end_time - start_time)\n",
    " \n",
    "# Run tasks using processes\n",
    "start_time = time.time()\n",
    "processes = [multiprocessing.Process(target=only_sleep()) for _ in range(NUM_WORKERS)]\n",
    "[process.start() for process in processes]\n",
    "[process.join() for process in processes]\n",
    "end_time = time.time()\n",
    " \n",
    "print(\"Parallel time=\", end_time - start_time)"
   ]
  },
  {
   "cell_type": "code",
   "execution_count": 6,
   "metadata": {},
   "outputs": [
    {
     "name": "stdout",
     "output_type": "stream",
     "text": [
      "PID: 15077, Process Name: MainProcess, Thread Name: MainThread\n",
      "PID: 15077, Process Name: MainProcess, Thread Name: MainThread\n",
      "PID: 15077, Process Name: MainProcess, Thread Name: MainThread\n",
      "PID: 15077, Process Name: MainProcess, Thread Name: MainThread\n",
      "Serial time= 2.3682479858398438\n",
      "PID: 15077, Process Name: MainProcess, Thread Name: Thread-16\n",
      "PID: 15077, Process Name: MainProcess, Thread Name: Thread-17\n",
      "PID: 15077, Process Name: MainProcess, Thread Name: Thread-18\n",
      "PID: 15077, Process Name: MainProcess, Thread Name: Thread-19\n",
      "Threads time= 2.5353291034698486\n",
      "PID: 15098, Process Name: Process-13, Thread Name: MainThread\n",
      "PID: 15099, Process Name: Process-14, Thread Name: MainThread\n",
      "PID: 15100, Process Name: Process-15, Thread Name: MainThread\n",
      "PID: 15101, Process Name: Process-16, Thread Name: MainThread\n",
      "Parallel time= 0.7228846549987793\n"
     ]
    }
   ],
   "source": [
    "start_time = time.time()\n",
    "for _ in range(NUM_WORKERS):\n",
    "    crunch_numbers()\n",
    "end_time = time.time()\n",
    " \n",
    "print(\"Serial time=\", end_time - start_time)\n",
    " \n",
    "start_time = time.time()\n",
    "threads = [threading.Thread(target=crunch_numbers) for _ in range(NUM_WORKERS)]\n",
    "[thread.start() for thread in threads]\n",
    "[thread.join() for thread in threads]\n",
    "end_time = time.time()\n",
    " \n",
    "print(\"Threads time=\", end_time - start_time)\n",
    " \n",
    " \n",
    "start_time = time.time()\n",
    "processes = [multiprocessing.Process(target=crunch_numbers) for _ in range(NUM_WORKERS)]\n",
    "[process.start() for process in processes]\n",
    "[process.join() for process in processes]\n",
    "end_time = time.time()\n",
    " \n",
    "print(\"Parallel time=\", end_time - start_time)"
   ]
  },
  {
   "cell_type": "code",
   "execution_count": null,
   "metadata": {},
   "outputs": [],
   "source": []
  }
 ],
 "metadata": {
  "kernelspec": {
   "display_name": "Python 3",
   "language": "python",
   "name": "python3"
  },
  "language_info": {
   "codemirror_mode": {
    "name": "ipython",
    "version": 3
   },
   "file_extension": ".py",
   "mimetype": "text/x-python",
   "name": "python",
   "nbconvert_exporter": "python",
   "pygments_lexer": "ipython3",
   "version": "3.7.0"
  }
 },
 "nbformat": 4,
 "nbformat_minor": 2
}
