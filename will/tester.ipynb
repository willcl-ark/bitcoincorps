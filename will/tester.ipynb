{
 "cells": [
  {
   "cell_type": "code",
   "execution_count": 132,
   "metadata": {
    "collapsed": true
   },
   "outputs": [],
   "source": [
    "def to_bytes(msg, byte_order='little', length=1):\n",
    "    if isinstance(msg, int) or isinstance(msg, bool):\n",
    "        return msg.to_bytes(length, byte_order)\n",
    "    elif isinstance(msg, str):\n",
    "        return msg.encode(encoding='UTF-8', errors='strict')\n",
    "    elif isinstance(msg, bytes):\n",
    "        return msg\n",
    "    else:\n",
    "        return print(\"message of type %s not supported by to_bytes()\" % type(msg))"
   ]
  },
  {
   "cell_type": "code",
   "execution_count": 139,
   "metadata": {},
   "outputs": [],
   "source": [
    "def pad_msg_end(msg, length):\n",
    "    len_diff = length - len(msg)\n",
    "    msg += b'\\x00' * len_diff\n",
    "    return msg"
   ]
  },
  {
   "cell_type": "code",
   "execution_count": 146,
   "metadata": {},
   "outputs": [
    {
     "name": "stdout",
     "output_type": "stream",
     "text": [
      "b'version'\n"
     ]
    },
    {
     "data": {
      "text/plain": [
       "b'version\\x00\\x00\\x00\\x00\\x00'"
      ]
     },
     "execution_count": 146,
     "metadata": {},
     "output_type": "execute_result"
    }
   ],
   "source": [
    "# test string\n",
    "b_str = to_bytes('version')\n",
    "print(b_str)\n",
    "pad_msg_end(b_str, 12)"
   ]
  },
  {
   "cell_type": "code",
   "execution_count": 147,
   "metadata": {},
   "outputs": [
    {
     "name": "stdout",
     "output_type": "stream",
     "text": [
      "b'\\x04\\x00'\n"
     ]
    },
    {
     "data": {
      "text/plain": [
       "b'\\x04\\x00\\x00\\x00\\x00\\x00\\x00\\x00\\x00\\x00'"
      ]
     },
     "execution_count": 147,
     "metadata": {},
     "output_type": "execute_result"
    }
   ],
   "source": [
    "# test int\n",
    "b_int = to_bytes(4, length=2, byte_order='little')\n",
    "print(b_int)\n",
    "pad_msg_end(b_int, 10)"
   ]
  },
  {
   "cell_type": "code",
   "execution_count": 148,
   "metadata": {},
   "outputs": [
    {
     "name": "stdout",
     "output_type": "stream",
     "text": [
      "b'\\x01'\n"
     ]
    }
   ],
   "source": [
    "# test bool\n",
    "b_bool = to_bytes(bool(1))\n",
    "print(b_bool)"
   ]
  },
  {
   "cell_type": "code",
   "execution_count": 149,
   "metadata": {},
   "outputs": [
    {
     "name": "stdout",
     "output_type": "stream",
     "text": [
      "b'\\x0c\\x00\\x00\\x00'\n"
     ]
    }
   ],
   "source": [
    "# test bytes\n",
    "b_bytes = to_bytes(b'\\x0c\\x00\\x00\\x00')\n",
    "print(b_bytes)"
   ]
  },
  {
   "cell_type": "code",
   "execution_count": 150,
   "metadata": {},
   "outputs": [
    {
     "name": "stdout",
     "output_type": "stream",
     "text": [
      "message of type <class 'list'> not supported by to_bytes()\n"
     ]
    }
   ],
   "source": [
    "# test list\n",
    "to_bytes([1, 2, 3])"
   ]
  },
  {
   "cell_type": "code",
   "execution_count": 153,
   "metadata": {},
   "outputs": [
    {
     "name": "stdout",
     "output_type": "stream",
     "text": [
      "b'version\\x04\\x00\\x01\\x0c\\x00\\x00\\x00'\n"
     ]
    }
   ],
   "source": [
    "test_message = b\"\".join([b_str, b_int, b_bool, b_bytes])\n",
    "print(test_message)"
   ]
  },
  {
   "cell_type": "code",
   "execution_count": 159,
   "metadata": {},
   "outputs": [
    {
     "name": "stdout",
     "output_type": "stream",
     "text": [
      "b'g\\x8a\\xd8d\\xdf\\x8adWP\\xd4/\\xa3\\x87\\xac\\xc8q\\xee\\xef}q\\xb8\\xc0\\x1d\\x89\\xf33\\xe6\\x13\\xbdc7\\xb3'\nb'\\x9f\\xfd\\x9fB\\x85\\xd2\\xffgf\\x99w|\\xcdg\\xd7>\\xc8\\xe5d\\xd7L\\xa6\\x0c|N\\xdf\\x8cFR]i\\xe7'\nb'\\x9f\\xfd\\x9fB'\nb'version\\x04\\x00\\x01\\x0c\\x00\\x00\\x00\\x9f\\xfd\\x9fB'\n"
     ]
    }
   ],
   "source": [
    "import hashlib\n",
    "\n",
    "th = hashlib.sha256(test_message).digest()\n",
    "print(th)\n",
    "h = hashlib.sha256(th).digest()\n",
    "print(h)\n",
    "print(h[:4])\n",
    "test_message_plus_checksum = b\"\".join([test_message, h[:4]])\n",
    "print(test_message_plus_checksum)"
   ]
  },
  {
   "cell_type": "code",
   "execution_count": 190,
   "metadata": {},
   "outputs": [],
   "source": [
    "import chainparams\n",
    "\n",
    "def generate_header(\n",
    "        StartString=to_bytes(chainparams.mainParams.StartString, length=4),\n",
    "        CommandName= \"\",\n",
    "        payload_size=4,\n",
    "                    ):\n",
    "    \n",
    "    cmd = pad_msg_end(to_bytes(CommandName), 12)\n",
    "    payload = pad_msg_end(to_bytes(payload_size), 4)\n",
    "\n",
    "    body = b''.join([StartString, cmd, payload])\n",
    "\n",
    "    checksum_hash1 = hashlib.sha256(body).digest()\n",
    "    checksum_hash2 = hashlib.sha256(checksum_hash1).digest()\n",
    "\n",
    "    header = b''.join([body, checksum_hash2])\n",
    "\n",
    "    return header"
   ]
  },
  {
   "cell_type": "code",
   "execution_count": 192,
   "metadata": {},
   "outputs": [
    {
     "data": {
      "text/plain": [
       "b'\\xd9\\xb4\\xbe\\xf9version\\x00\\x00\\x00\\x00\\x00\\x80\\x00\\x00\\x00\\xa8\\n\\xc9\\x7f\\xdcW\\xf2\\xf3h\\xc3\\xf333C\\xcejZ\\x10\\xfav\\x07\\xd1\\xa2`\\x08)\\xb5>n\\x93L\\x0b'"
      ]
     },
     "execution_count": 192,
     "metadata": {},
     "output_type": "execute_result"
    }
   ],
   "source": [
    "generate_header(CommandName='version', payload_size=128)"
   ]
  },
  {
   "cell_type": "code",
   "execution_count": null,
   "metadata": {},
   "outputs": [],
   "source": []
  }
 ],
 "metadata": {
  "kernelspec": {
   "display_name": "Python 2",
   "language": "python",
   "name": "python2"
  },
  "language_info": {
   "codemirror_mode": {
    "name": "ipython",
    "version": 2
   },
   "file_extension": ".py",
   "mimetype": "text/x-python",
   "name": "python",
   "nbconvert_exporter": "python",
   "pygments_lexer": "ipython2",
   "version": "2.7.6"
  }
 },
 "nbformat": 4,
 "nbformat_minor": 0
}
