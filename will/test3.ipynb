{
 "cells": [
  {
   "cell_type": "code",
   "execution_count": 14,
   "metadata": {
    "collapsed": true
   },
   "outputs": [],
   "source": [
    "import struct\n",
    "import chainparams\n",
    "import hashlib\n",
    "\n",
    "\n",
    "class Message:\n",
    "\n",
    "    def __init__(self, command, payload):\n",
    "        self.magic = struct.pack('>I', chainparams.mainParams.StartString)\n",
    "        self.command = command\n",
    "        self.command_bytes = None\n",
    "        self.length = struct.pack('<I', len(payload))\n",
    "        self.payload = payload\n",
    "        self.checksum = None\n",
    "        self.header = None\n",
    "        \n",
    "    def serialize_payload(self):\n",
    "        if not isinstance(self.payload, bytes):\n",
    "            self.payload = self.payload.encode('utf-8')\n",
    "        self.length = struct.pack('<I', len(self.payload))\n",
    "\n",
    "        double_hash = hashlib.sha256(hashlib.sha256(self.payload).digest()).digest()\n",
    "        self.checksum = struct.pack('<4s', double_hash[:4])\n",
    "\n",
    "    def generate_header(self):\n",
    "        self.serialize_payload()\n",
    "\n",
    "        # serialize and pack command message\n",
    "        b = self.command.encode('utf-8')\n",
    "        self.command_bytes = struct.pack('<12s', b)\n",
    "\n",
    "        # Create the whole header\n",
    "        self.header = b\"\".join([self.magic, self.command_bytes, self.length, self.checksum])\n",
    "        return self.header\n",
    "\n",
    "    def to_bytes(self):\n",
    "        self.generate_header()\n",
    "        msg = b\"\".join([self.header, self.payload])\n",
    "        return msg\n",
    "\n",
    "\n",
    "class Verack(Message):\n",
    "\n",
    "    def __init__(self):\n",
    "        self.command = \"verack\"\n",
    "        self.payload = \"hello, world\"\n",
    "        Message.__init__(self, command=self.command, payload=self.payload)\n",
    "        \n",
    "\n"
   ]
  },
  {
   "cell_type": "code",
   "execution_count": 15,
   "metadata": {},
   "outputs": [
    {
     "name": "stdout",
     "output_type": "stream",
     "text": [
      "{'magic': b'\\xf9\\xbe\\xb4\\xd9', 'command': 'version', 'command_bytes': None, 'length': b'\\x0c\\x00\\x00\\x00', 'payload': 'hello, world', 'checksum': None, 'header': None}\n{'command': 'verack', 'payload': 'hello, world', 'magic': b'\\xf9\\xbe\\xb4\\xd9', 'command_bytes': None, 'length': b'\\x0c\\x00\\x00\\x00', 'checksum': None, 'header': None}\n"
     ]
    },
    {
     "data": {
      "text/plain": [
       "b'\\xf9\\xbe\\xb4\\xd9verack\\x00\\x00\\x00\\x00\\x00\\x00\\x0c\\x00\\x00\\x00B-lUhello, world'"
      ]
     },
     "execution_count": 15,
     "metadata": {},
     "output_type": "execute_result"
    }
   ],
   "source": [
    "m = Message('version', 'hello, world')\n",
    "print(vars(m))\n",
    "v = Verack()\n",
    "print(vars(v))\n",
    "v.to_bytes()"
   ]
  },
  {
   "cell_type": "code",
   "execution_count": null,
   "metadata": {},
   "outputs": [],
   "source": []
  }
 ],
 "metadata": {
  "kernelspec": {
   "display_name": "Python 2",
   "language": "python",
   "name": "python2"
  },
  "language_info": {
   "codemirror_mode": {
    "name": "ipython",
    "version": 2
   },
   "file_extension": ".py",
   "mimetype": "text/x-python",
   "name": "python",
   "nbconvert_exporter": "python",
   "pygments_lexer": "ipython2",
   "version": "2.7.6"
  }
 },
 "nbformat": 4,
 "nbformat_minor": 0
}
