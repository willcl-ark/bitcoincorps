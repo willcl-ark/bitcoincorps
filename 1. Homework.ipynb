{
 "cells": [
  {
   "cell_type": "markdown",
   "metadata": {},
   "source": [
    "# Homework\n",
    "\n",
    "I created a file in the root of our repository called packets.txt\n",
    "\n",
    "It's a binary file composed of raw Bitcoin Network messages.\n",
    "\n",
    "Below is some code which can read the messages and print out a little statement about each message.\n",
    "\n",
    "I want you to try to parse some of these messages. This is open-ended homework. See how far you get. Ask questions in Slack. I'll give you more prompts as the weeks progresses."
   ]
  },
  {
   "cell_type": "code",
   "execution_count": 2,
   "metadata": {},
   "outputs": [
    {
     "name": "stdout",
     "output_type": "stream",
     "text": [
      "b'inv' with 973-byte payload\nb'tx' with 140-byte payload\nb'tx' with 374-byte payload\nb'tx' with 225-byte payload\nb'tx' with 191-byte payload\nb'tx' with 374-byte payload\nb'tx' with 150-byte payload\nb'tx' with 340-byte payload\nb'tx' with 403-byte payload\nb'tx' with 404-byte payload\nb'tx' with 223-byte payload\nb'tx' with 226-byte payload\nb'tx' with 373-byte payload\nb'tx' with 257-byte payload\nb'tx' with 225-byte payload\nb'tx' with 150-byte payload\nb'tx' with 2229-byte payload\nb'tx' with 223-byte payload\nb'tx' with 114-byte payload\nb'tx' with 114-byte payload\nb'tx' with 139-byte payload\nb'tx' with 116-byte payload\nb'tx' with 204-byte payload\nb'tx' with 372-byte payload\nb'tx' with 304-byte payload\nb'tx' with 374-byte payload\nb'tx' with 204-byte payload\nb'tx' with 223-byte payload\nb'inv' with 37-byte payload\nb'tx' with 632-byte payload\nb'headers' with 162003-byte payload\nb'block' with 966357-byte payload\nb'block' with 966357-byte payload\nb'block' with 959576-byte payload\nb'block' with 964209-byte payload\nb'block' with 937696-byte payload\nb'block' with 979946-byte payload\nb'block' with 936088-byte payload\nb'block' with 770607-byte payload\nb'block' with 748019-byte payload\nb'block' with 949082-byte payload\nreached the end\n"
     ]
    }
   ],
   "source": [
    "from ibd.one.complete import Packet, FakeSocket\n",
    "# Packet was called Message in the first lesson, but I renamed it ...\n",
    "\n",
    "packets = open('packets.txt', 'rb').read()\n",
    "fake_socket = FakeSocket(packets)\n",
    "\n",
    "while True:\n",
    "    try:\n",
    "        pkt = Packet.from_socket(fake_socket)\n",
    "        print(f\"{pkt.command} with {len(pkt.payload)}-byte payload\")\n",
    "    except RuntimeError:\n",
    "        print(\"reached the end\")\n",
    "        break"
   ]
  },
  {
   "cell_type": "code",
   "execution_count": null,
   "metadata": {},
   "outputs": [],
   "source": []
  }
 ],
 "metadata": {
  "kernelspec": {
   "display_name": "Python 3",
   "language": "python",
   "name": "python3"
  },
  "language_info": {
   "codemirror_mode": {
    "name": "ipython",
    "version": 3
   },
   "file_extension": ".py",
   "mimetype": "text/x-python",
   "name": "python",
   "nbconvert_exporter": "python",
   "pygments_lexer": "ipython3",
   "version": "3.6.5"
  }
 },
 "nbformat": 4,
 "nbformat_minor": 2
}
