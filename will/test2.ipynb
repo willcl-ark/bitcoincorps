{
 "cells": [
  {
   "cell_type": "code",
   "execution_count": 241,
   "metadata": {
    "collapsed": true
   },
   "outputs": [],
   "source": [
    "import hashlib\n",
    "\n",
    "from requests import get\n",
    "\n",
    "import chainparams\n",
    "import time\n",
    "import socket\n",
    "import struct"
   ]
  },
  {
   "cell_type": "code",
   "execution_count": 243,
   "metadata": {},
   "outputs": [
    {
     "name": "stdout",
     "output_type": "stream",
     "text": [
      "77.98.116.8\n"
     ]
    }
   ],
   "source": [
    "LOCAL_WAN_IP = get('https://api.ipify.org').text\n",
    "PEER_IP = \"77.98.116.8\"\n",
    "PEER_PORT = 8333\n",
    "print(LOCAL_WAN_IP)"
   ]
  },
  {
   "cell_type": "code",
   "execution_count": 244,
   "metadata": {},
   "outputs": [],
   "source": [
    "class Serializable:\n",
    "\n",
    "    @staticmethod\n",
    "    def _to_bytes(msg, length=None, byteorder='little'):\n",
    "        if isinstance(msg, int):    # or isinstance(msg, bool):\n",
    "            if length == None:\n",
    "                length = msg.bit_length()\n",
    "            return msg.to_bytes(length, byteorder)\n",
    "        elif isinstance(msg, str):\n",
    "            return msg.encode(encoding='UTF-8', errors='strict')\n",
    "        elif isinstance(msg, bytes):\n",
    "            return msg\n",
    "        else:\n",
    "            return print(\"message of type %s not supported by _to_bytes()\" % type(msg))\n",
    "\n",
    "    @staticmethod\n",
    "    def pad_msg_end(msg, length):\n",
    "        len_diff = length - len(msg)\n",
    "        msg += b\"\\x00\" * len_diff\n",
    "        return msg"
   ]
  },
  {
   "cell_type": "code",
   "execution_count": 245,
   "metadata": {},
   "outputs": [
    {
     "name": "stdout",
     "output_type": "stream",
     "text": [
      "b'\\xf9\\xbe\\xb4\\xd9'\n"
     ]
    },
    {
     "data": {
      "text/plain": [
       "bytes"
      ]
     },
     "execution_count": 245,
     "metadata": {},
     "output_type": "execute_result"
    }
   ],
   "source": [
    "magic = chainparams.mainParams.StartString.to_bytes(4, byteorder='big')\n",
    "print(magic)\n",
    "type(magic)"
   ]
  },
  {
   "cell_type": "code",
   "execution_count": 258,
   "metadata": {},
   "outputs": [],
   "source": [
    "class Message(Serializable):\n",
    "\n",
    "    def __init__(self, command, payload):\n",
    "        self.magic = chainparams.mainParams.StartString.to_bytes(4, byteorder='little')\n",
    "        self.command = command\n",
    "        self.command_bytes = None\n",
    "        self.length = len(payload).to_bytes(length=4, byteorder='little')\n",
    "        self.payload = payload\n",
    "        self.checksum = None\n",
    "        self.header = None\n",
    "\n",
    "    def serialize_payload(self):\n",
    "        if not isinstance(self.payload, bytes):\n",
    "            self.payload = Serializable._to_bytes(self.payload)\n",
    "            self.length = len(self.payload).to_bytes(length=4, byteorder='little')\n",
    "            self.checksum = hashlib.sha256(hashlib.sha256(self.payload).digest()).digest()[:4]\n",
    "\n",
    "    def generate_header(self):\n",
    "        self.serialize_payload()\n",
    "        self.command_bytes = Serializable.pad_msg_end(Serializable._to_bytes(self.command), 12)\n",
    "        self.length = Serializable.pad_msg_end(Serializable._to_bytes(self.length), 4)\n",
    "        self.checksum = hashlib.sha256(hashlib.sha256(self.payload).digest()).digest()[:4]\n",
    "\n",
    "        self.header = b''.join([self.magic, self.command_bytes, self.length, self.checksum])\n",
    "        return self.header\n",
    "\n",
    "    def to_bytes(self):\n",
    "        self.generate_header()\n",
    "        msg = b''.join([self.header, self.payload])\n",
    "        return msg\n",
    "    \n",
    "    @staticmethod\n",
    "    def to_var_int(x):\n",
    "        if x < 0xfd:\n",
    "            return Serializable._to_bytes(x, length=1)\n",
    "        elif x <= 0x10000:\n",
    "            return b\"\\xfd\" + Serializable._to_bytes(x, length=3)\n",
    "        elif x <= 0x100000000:\n",
    "            return b\"\\xfe\" + Serializable._to_bytes(x, length=5)\n",
    "        elif x <= 0x10000000000000000:\n",
    "            return b\"\\xff\" + Serializable._to_bytes(x, length=9)\n",
    "        else:\n",
    "            raise RuntimeError(\"integer too large for type<var_int>\")\n",
    "        \n",
    "    @staticmethod\n",
    "    def to_var_str(x):\n",
    "        s = Serializable._to_bytes(x)\n",
    "        l = len(s)\n",
    "        return Message.to_var_int(l) + s\n",
    "    \n",
    "    @staticmethod\n",
    "    def generate_network_address(ip, port):\n",
    "        t = struct.pack(b\"<q\", int(time.time()))\n",
    "        print(t)\n",
    "        s = Serializable._to_bytes('services')\n",
    "        print(s)\n",
    "        p = Serializable._to_bytes(port, byteorder='big')\n",
    "        print(p)\n",
    "        \n",
    "        if ':' in ip:\n",
    "            addr = bytes(map(int, ip.split(':')))\n",
    "        else:\n",
    "            addr = (b\"\\x00\" * 10) + (b\"\\xFF\" * 2)\n",
    "            addr_bytes = bytes(map(int, ip.split('.')))\n",
    "            addr += addr_bytes \n",
    "        \n",
    "        print(addr)\n",
    "        \n",
    "        return b\"\".join([t, s, addr, p])\n"
   ]
  },
  {
   "cell_type": "code",
   "execution_count": 259,
   "metadata": {},
   "outputs": [],
   "source": [
    "a = Message('block', '00000000000000001e8d6829a8a21adc5d38d0a473b144b6765798e61f98bd1d')"
   ]
  },
  {
   "cell_type": "code",
   "execution_count": 260,
   "metadata": {},
   "outputs": [
    {
     "name": "stdout",
     "output_type": "stream",
     "text": [
      "b'\\xd9\\xb4\\xbe\\xf9'\nblock\nb'@\\x00\\x00\\x00'\n00000000000000001e8d6829a8a21adc5d38d0a473b144b6765798e61f98bd1d\npayload is type <class 'str'>\nNone\n"
     ]
    }
   ],
   "source": [
    "print(a.magic)\n",
    "print(a.command)\n",
    "print(a.length)\n",
    "print(a.payload)\n",
    "print(\"payload is type %s\" % type(a.payload))\n",
    "print(a.checksum)"
   ]
  },
  {
   "cell_type": "code",
   "execution_count": 261,
   "metadata": {},
   "outputs": [
    {
     "data": {
      "text/plain": [
       "b'\\xd9\\xb4\\xbe\\xf9block\\x00\\x00\\x00\\x00\\x00\\x00\\x00@\\x00\\x00\\x00\\x88\\x8b\\xa5&'"
      ]
     },
     "execution_count": 261,
     "metadata": {},
     "output_type": "execute_result"
    }
   ],
   "source": [
    "a.generate_header()"
   ]
  },
  {
   "cell_type": "code",
   "execution_count": 262,
   "metadata": {},
   "outputs": [
    {
     "data": {
      "text/plain": [
       "b'\\xd9\\xb4\\xbe\\xf9block\\x00\\x00\\x00\\x00\\x00\\x00\\x00@\\x00\\x00\\x00\\x88\\x8b\\xa5&00000000000000001e8d6829a8a21adc5d38d0a473b144b6765798e61f98bd1d'"
      ]
     },
     "execution_count": 262,
     "metadata": {},
     "output_type": "execute_result"
    }
   ],
   "source": [
    "a.to_bytes()"
   ]
  },
  {
   "cell_type": "code",
   "execution_count": 263,
   "metadata": {},
   "outputs": [
    {
     "name": "stdout",
     "output_type": "stream",
     "text": [
      "b'\\xd9\\xb4\\xbe\\xf9'\nb'block\\x00\\x00\\x00\\x00\\x00\\x00\\x00'\nb'@\\x00\\x00\\x00'\nb'00000000000000001e8d6829a8a21adc5d38d0a473b144b6765798e61f98bd1d'\npayload is type <class 'bytes'>\nb'\\x88\\x8b\\xa5&'\n"
     ]
    }
   ],
   "source": [
    "print(a.magic)\n",
    "print(a.command_bytes)\n",
    "print(a.length)\n",
    "print(a.payload)\n",
    "print(\"payload is type %s\" % type(a.payload))\n",
    "print(a.checksum)"
   ]
  },
  {
   "cell_type": "code",
   "execution_count": 264,
   "metadata": {},
   "outputs": [
    {
     "name": "stdout",
     "output_type": "stream",
     "text": [
      "252\nb'\\xfc'\nhello, world\nb'\\x0chello, world'\n"
     ]
    }
   ],
   "source": [
    "class Test(Message):\n",
    "    test_number = 252\n",
    "    test_message = 'hello, world'\n",
    "    print(test_number)\n",
    "    print(Message.to_var_int(test_number))\n",
    "    print(test_message)\n",
    "    print(Message.to_var_str(test_message))\n",
    "    \n"
   ]
  },
  {
   "cell_type": "code",
   "execution_count": 265,
   "metadata": {},
   "outputs": [
    {
     "name": "stdout",
     "output_type": "stream",
     "text": [
      "b'B\\xd07\\\\\\x00\\x00\\x00\\x00'\nb'services'\nb'\\x00\\x00\\x00\\x00\\x00\\x00\\x00\\x00\\x00\\x00\\x00\\x00 \\x8d'\nb'\\x00\\x00\\x00\\x00\\x00\\x00\\x00\\x00\\x00\\x00\\xff\\xffMbt\\x08'\n"
     ]
    },
    {
     "data": {
      "text/plain": [
       "b'B\\xd07\\\\\\x00\\x00\\x00\\x00services\\x00\\x00\\x00\\x00\\x00\\x00\\x00\\x00\\x00\\x00\\xff\\xffMbt\\x08\\x00\\x00\\x00\\x00\\x00\\x00\\x00\\x00\\x00\\x00\\x00\\x00 \\x8d'"
      ]
     },
     "execution_count": 265,
     "metadata": {},
     "output_type": "execute_result"
    }
   ],
   "source": [
    "a.generate_network_address(\"77.98.116.8\", 8333)\n"
   ]
  },
  {
   "cell_type": "code",
   "execution_count": 289,
   "metadata": {},
   "outputs": [
    {
     "name": "stdout",
     "output_type": "stream",
     "text": [
      "b'\\x04\\x00\\x00\\x00'\nb'\\x00\\x00\\x00\\x04'\nb'hello, world'\n"
     ]
    }
   ],
   "source": [
    "print(struct.pack('i', 4))\n",
    "print(struct.pack('>i', 4))\n",
    "text = b'Hello, world'\n",
    "len_txt = len(text)\n",
    "print(struct.pack('%ds' % len_txt, b'hello, world'))"
   ]
  },
  {
   "cell_type": "code",
   "execution_count": 290,
   "metadata": {},
   "outputs": [
    {
     "data": {
      "text/plain": [
       "b\"hello, what's my name again\""
      ]
     },
     "execution_count": 290,
     "metadata": {},
     "output_type": "execute_result"
    }
   ],
   "source": [
    "\"hello, what's my name again\".encode('utf-8')"
   ]
  },
  {
   "cell_type": "code",
   "execution_count": null,
   "metadata": {},
   "outputs": [],
   "source": []
  }
 ],
 "metadata": {
  "kernelspec": {
   "display_name": "Python 2",
   "language": "python",
   "name": "python2"
  },
  "language_info": {
   "codemirror_mode": {
    "name": "ipython",
    "version": 2
   },
   "file_extension": ".py",
   "mimetype": "text/x-python",
   "name": "python",
   "nbconvert_exporter": "python",
   "pygments_lexer": "ipython2",
   "version": "2.7.6"
  }
 },
 "nbformat": 4,
 "nbformat_minor": 0
}
